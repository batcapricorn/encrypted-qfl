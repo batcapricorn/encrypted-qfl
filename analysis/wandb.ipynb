{
 "cells": [
  {
   "cell_type": "markdown",
   "metadata": {},
   "source": [
    "# Analysis of `wandb` Logs and Metrics\n",
    "This notebook collects different metrics for a specified experiment.\n",
    "\n",
    "## Setup"
   ]
  },
  {
   "cell_type": "code",
   "execution_count": 1,
   "metadata": {},
   "outputs": [],
   "source": [
    "import numpy as np\n",
    "import pprint\n",
    "\n",
    "import warnings\n",
    "warnings.filterwarnings(\"ignore\")\n",
    "\n",
    "import wandb\n",
    "api = wandb.Api()\n",
    "\n",
    "GROUP = \"experiment-ta8q2oab\""
   ]
  },
  {
   "cell_type": "code",
   "execution_count": 2,
   "metadata": {},
   "outputs": [],
   "source": [
    "runs = api.runs(\"uedyiuajxz-personal/qfl-prod\")"
   ]
  },
  {
   "cell_type": "code",
   "execution_count": 3,
   "metadata": {},
   "outputs": [
    {
     "name": "stderr",
     "output_type": "stream",
     "text": [
      "\u001b[34m\u001b[1mwandb\u001b[0m: \u001b[33mWARNING\u001b[0m A graphql request initiated by the public wandb API timed out (timeout=19 sec). Create a new API with an integer timeout larger than 19, e.g., `api = wandb.Api(timeout=29)` to increase the graphql timeout.\n"
     ]
    },
    {
     "name": "stdout",
     "output_type": "stream",
     "text": [
      "Run ID: td20vnd1, Name: frosty-thunder-174, Type: server\n",
      "Run ID: 4lnorgyh, Name: silvery-firefly-183, Type: client13\n",
      "Run ID: klstux4n, Name: leafy-shape-183, Type: client18\n",
      "Run ID: lk1f9hf1, Name: feasible-bush-183, Type: client14\n",
      "Run ID: nmppygo2, Name: icy-blaze-178, Type: client19\n",
      "Run ID: hd1zhh5n, Name: dainty-thunder-183, Type: client7\n",
      "Run ID: opfaql0r, Name: stoic-jazz-180, Type: client12\n",
      "Run ID: h4i9f2ik, Name: cosmic-breeze-175, Type: client11\n",
      "Run ID: fsc2hsqk, Name: graceful-waterfall-175, Type: client3\n",
      "Run ID: ez40yg0l, Name: summer-shape-183, Type: client0\n",
      "Run ID: ric2bf54, Name: wandering-forest-175, Type: client6\n",
      "Run ID: eh0k8vf2, Name: olive-firebrand-175, Type: client15\n",
      "Run ID: ee0wzdpf, Name: true-brook-175, Type: client16\n",
      "Run ID: dyfkqvxd, Name: comic-pine-194, Type: client4\n",
      "Run ID: u1eh36mx, Name: fast-water-175, Type: client5\n",
      "Run ID: unqtmdg0, Name: warm-firebrand-180, Type: client2\n",
      "Run ID: 9l0kcv9p, Name: fearless-hill-183, Type: client1\n",
      "Run ID: 91bd9q8w, Name: peachy-microwave-177, Type: client8\n",
      "Run ID: xniw9jtv, Name: revived-snowflake-175, Type: client10\n",
      "Run ID: 7x2hfgqz, Name: skilled-monkey-175, Type: client9\n",
      "Run ID: zdkn5pr1, Name: laced-snowball-183, Type: client17\n"
     ]
    }
   ],
   "source": [
    "grouped_runs = [run for run in runs if run.config.get(\"group\", None) == GROUP]\n",
    "server = None\n",
    "clients = []\n",
    "\n",
    "for run in grouped_runs:\n",
    "    participant = run.config.get(\"participant\", None)\n",
    "    if participant == \"server\":\n",
    "        server = run\n",
    "    else:\n",
    "        clients.append(run)\n",
    "    print(f\"Run ID: {run.id}, Name: {run.name}, Type: {participant}\")"
   ]
  },
  {
   "cell_type": "markdown",
   "metadata": {},
   "source": [
    "## Settings"
   ]
  },
  {
   "cell_type": "code",
   "execution_count": 4,
   "metadata": {},
   "outputs": [
    {
     "name": "stdout",
     "output_type": "stream",
     "text": [
      "{'batch_size': 32,\n",
      " 'dataset': 'MRI',\n",
      " 'fhe_enabled': True,\n",
      " 'group': 'experiment-ta8q2oab',\n",
      " 'learning_rate': '1e-3',\n",
      " 'model': 'fednn',\n",
      " 'number_clients': 20,\n",
      " 'participant': 'server',\n",
      " 'rounds': 20}\n"
     ]
    }
   ],
   "source": [
    "pp = pprint.PrettyPrinter(indent=1, width=40)\n",
    "pp.pprint(server.config)"
   ]
  },
  {
   "cell_type": "markdown",
   "metadata": {},
   "source": [
    "## Server and Aggregated Metrics"
   ]
  },
  {
   "cell_type": "code",
   "execution_count": 5,
   "metadata": {},
   "outputs": [],
   "source": [
    "def compute_statistics(arr: np.ndarray) -> dict:\n",
    "    \"\"\"\n",
    "    Compute basic statistical measures of an array, including mean, median, standard deviation, \n",
    "    25th percentile (Q1), and 75th percentile (Q3).\n",
    "\n",
    "    Parameters\n",
    "    ----------\n",
    "    arr : np.ndarray\n",
    "        Input numerical array.\n",
    "\n",
    "    Returns\n",
    "    -------\n",
    "    dict\n",
    "        A dictionary containing the following statistics:\n",
    "        - \"mean\" : float\n",
    "            The average of the array.\n",
    "        - \"median\" : float\n",
    "            The middle value of the array.\n",
    "        - \"std\" : float\n",
    "            The standard deviation (sample standard deviation with `ddof=1`).\n",
    "        - \"25%\" : float\n",
    "            The 25th percentile (Q1).\n",
    "        - \"75%\" : float\n",
    "            The 75th percentile (Q3).\n",
    "\n",
    "    Examples\n",
    "    --------\n",
    "    >>> import numpy as np\n",
    "    >>> data = np.array([10, 20, 30, 40, 50, 60, 70, 80, 90, 100])\n",
    "    >>> compute_statistics(data)\n",
    "    {'mean': 55.0, 'median': 55.0, 'std': 30.276503540974915, '25%': 32.5, '75%': 77.5}\n",
    "    \"\"\"\n",
    "    if not isinstance(arr, np.ndarray):\n",
    "        arr = np.array(arr)\n",
    "\n",
    "    stats = {\n",
    "        \"mean\": np.mean(arr),\n",
    "        \"median\": np.median(arr),\n",
    "        \"std\": np.std(arr, ddof=1),\n",
    "        \"25%\": np.percentile(arr, 25),\n",
    "        \"75%\": np.percentile(arr, 75),\n",
    "        \"min\": np.min(arr),\n",
    "        \"max\": np.max(arr),\n",
    "        \"last_value\": arr[-1]\n",
    "    }\n",
    "    return stats"
   ]
  },
  {
   "cell_type": "code",
   "execution_count": 6,
   "metadata": {},
   "outputs": [
    {
     "data": {
      "text/html": [
       "<pre style=\"white-space:pre;overflow-x:auto;line-height:normal;font-family:Menlo,'DejaVu Sans Mono',consolas,'Courier New',monospace\"><span style=\"font-style: italic\">                           Server Statistics (Part 1)                           </span>\n",
       "┏━━━━━━━━━━━━━━━━━━━━━━━━━━━━┳━━━━━━━━━━━━━━━━┳━━━━━━━━━━━━━━━━┳━━━━━━━━━━━━━━━┓\n",
       "┃<span style=\"font-weight: bold\"> Metric                     </span>┃<span style=\"font-weight: bold\">           Mean </span>┃<span style=\"font-weight: bold\">         Median </span>┃<span style=\"font-weight: bold\">           Std </span>┃\n",
       "┡━━━━━━━━━━━━━━━━━━━━━━━━━━━━╇━━━━━━━━━━━━━━━━╇━━━━━━━━━━━━━━━━╇━━━━━━━━━━━━━━━┩\n",
       "│<span style=\"color: #008080; text-decoration-color: #008080\"> _step                      </span>│<span style=\"color: #008000; text-decoration-color: #008000\">          50.50 </span>│<span style=\"color: #008000; text-decoration-color: #008000\">          50.50 </span>│<span style=\"color: #008000; text-decoration-color: #008000\">         29.59 </span>│\n",
       "│<span style=\"color: #008080; text-decoration-color: #008080\"> _runtime                   </span>│<span style=\"color: #008000; text-decoration-color: #008000\">       63912.08 </span>│<span style=\"color: #008000; text-decoration-color: #008000\">       62063.94 </span>│<span style=\"color: #008000; text-decoration-color: #008000\">      36778.20 </span>│\n",
       "│<span style=\"color: #008080; text-decoration-color: #008080\"> trainable_parameters       </span>│<span style=\"color: #008000; text-decoration-color: #008000\">    12850788.00 </span>│<span style=\"color: #008000; text-decoration-color: #008000\">    12850788.00 </span>│<span style=\"color: #008000; text-decoration-color: #008000\">           nan </span>│\n",
       "│<span style=\"color: #008080; text-decoration-color: #008080\"> _timestamp                 </span>│<span style=\"color: #008000; text-decoration-color: #008000\">  1738217136.51 </span>│<span style=\"color: #008000; text-decoration-color: #008000\">  1738215288.38 </span>│<span style=\"color: #008000; text-decoration-color: #008000\">      36778.20 </span>│\n",
       "│<span style=\"color: #008080; text-decoration-color: #008080\"> Total Bytes Sent           </span>│<span style=\"color: #008000; text-decoration-color: #008000\">   539745433.50 </span>│<span style=\"color: #008000; text-decoration-color: #008000\">   539745433.50 </span>│<span style=\"color: #008000; text-decoration-color: #008000\">  304112099.73 </span>│\n",
       "│<span style=\"color: #008080; text-decoration-color: #008080\"> Bytes Sent (Round)         </span>│<span style=\"color: #008000; text-decoration-color: #008000\">    51404327.00 </span>│<span style=\"color: #008000; text-decoration-color: #008000\">    51404327.00 </span>│<span style=\"color: #008000; text-decoration-color: #008000\">          0.00 </span>│\n",
       "│<span style=\"color: #008080; text-decoration-color: #008080\"> round                      </span>│<span style=\"color: #008000; text-decoration-color: #008000\">          10.50 </span>│<span style=\"color: #008000; text-decoration-color: #008000\">          10.50 </span>│<span style=\"color: #008000; text-decoration-color: #008000\">          5.92 </span>│\n",
       "│<span style=\"color: #008080; text-decoration-color: #008080\"> round_time                 </span>│<span style=\"color: #008000; text-decoration-color: #008000\">        6151.33 </span>│<span style=\"color: #008000; text-decoration-color: #008000\">        6151.73 </span>│<span style=\"color: #008000; text-decoration-color: #008000\">         84.13 </span>│\n",
       "│<span style=\"color: #008080; text-decoration-color: #008080\"> Bytes Received (Round)     </span>│<span style=\"color: #008000; text-decoration-color: #008000\">  1028086540.00 </span>│<span style=\"color: #008000; text-decoration-color: #008000\">  1028086540.00 </span>│<span style=\"color: #008000; text-decoration-color: #008000\">          0.00 </span>│\n",
       "│<span style=\"color: #008080; text-decoration-color: #008080\"> Total Bytes Received       </span>│<span style=\"color: #008000; text-decoration-color: #008000\"> 10794908670.00 </span>│<span style=\"color: #008000; text-decoration-color: #008000\"> 10794908670.00 </span>│<span style=\"color: #008000; text-decoration-color: #008000\"> 6082241994.57 </span>│\n",
       "│<span style=\"color: #008080; text-decoration-color: #008080\"> parameter_aggregation_time </span>│<span style=\"color: #008000; text-decoration-color: #008000\">           0.62 </span>│<span style=\"color: #008000; text-decoration-color: #008000\">           0.62 </span>│<span style=\"color: #008000; text-decoration-color: #008000\">          0.01 </span>│\n",
       "│<span style=\"color: #008080; text-decoration-color: #008080\"> loss_agg                   </span>│<span style=\"color: #008000; text-decoration-color: #008000\">           0.74 </span>│<span style=\"color: #008000; text-decoration-color: #008000\">           0.68 </span>│<span style=\"color: #008000; text-decoration-color: #008000\">          0.14 </span>│\n",
       "│<span style=\"color: #008080; text-decoration-color: #008080\"> metrics_agg.accuracy       </span>│<span style=\"color: #008000; text-decoration-color: #008000\">          86.73 </span>│<span style=\"color: #008000; text-decoration-color: #008000\">          88.32 </span>│<span style=\"color: #008000; text-decoration-color: #008000\">          4.46 </span>│\n",
       "│<span style=\"color: #008080; text-decoration-color: #008080\"> metrics_agg.precisions     </span>│<span style=\"color: #008000; text-decoration-color: #008000\">         100.00 </span>│<span style=\"color: #008000; text-decoration-color: #008000\">         100.00 </span>│<span style=\"color: #008000; text-decoration-color: #008000\">          0.00 </span>│\n",
       "│<span style=\"color: #008080; text-decoration-color: #008080\"> metrics_agg.f1s            </span>│<span style=\"color: #008000; text-decoration-color: #008000\">         100.00 </span>│<span style=\"color: #008000; text-decoration-color: #008000\">         100.00 </span>│<span style=\"color: #008000; text-decoration-color: #008000\">          0.00 </span>│\n",
       "│<span style=\"color: #008080; text-decoration-color: #008080\"> metrics_agg.recalls        </span>│<span style=\"color: #008000; text-decoration-color: #008000\">         100.00 </span>│<span style=\"color: #008000; text-decoration-color: #008000\">         100.00 </span>│<span style=\"color: #008000; text-decoration-color: #008000\">          0.00 </span>│\n",
       "│<span style=\"color: #008080; text-decoration-color: #008080\"> total_training_time        </span>│<span style=\"color: #008000; text-decoration-color: #008000\">      124134.89 </span>│<span style=\"color: #008000; text-decoration-color: #008000\">      124134.89 </span>│<span style=\"color: #008000; text-decoration-color: #008000\">           nan </span>│\n",
       "└────────────────────────────┴────────────────┴────────────────┴───────────────┘\n",
       "</pre>\n"
      ],
      "text/plain": [
       "\u001b[3m                           Server Statistics (Part 1)                           \u001b[0m\n",
       "┏━━━━━━━━━━━━━━━━━━━━━━━━━━━━┳━━━━━━━━━━━━━━━━┳━━━━━━━━━━━━━━━━┳━━━━━━━━━━━━━━━┓\n",
       "┃\u001b[1m \u001b[0m\u001b[1mMetric                    \u001b[0m\u001b[1m \u001b[0m┃\u001b[1m \u001b[0m\u001b[1m          Mean\u001b[0m\u001b[1m \u001b[0m┃\u001b[1m \u001b[0m\u001b[1m        Median\u001b[0m\u001b[1m \u001b[0m┃\u001b[1m \u001b[0m\u001b[1m          Std\u001b[0m\u001b[1m \u001b[0m┃\n",
       "┡━━━━━━━━━━━━━━━━━━━━━━━━━━━━╇━━━━━━━━━━━━━━━━╇━━━━━━━━━━━━━━━━╇━━━━━━━━━━━━━━━┩\n",
       "│\u001b[36m \u001b[0m\u001b[36m_step                     \u001b[0m\u001b[36m \u001b[0m│\u001b[32m \u001b[0m\u001b[32m         50.50\u001b[0m\u001b[32m \u001b[0m│\u001b[32m \u001b[0m\u001b[32m         50.50\u001b[0m\u001b[32m \u001b[0m│\u001b[32m \u001b[0m\u001b[32m        29.59\u001b[0m\u001b[32m \u001b[0m│\n",
       "│\u001b[36m \u001b[0m\u001b[36m_runtime                  \u001b[0m\u001b[36m \u001b[0m│\u001b[32m \u001b[0m\u001b[32m      63912.08\u001b[0m\u001b[32m \u001b[0m│\u001b[32m \u001b[0m\u001b[32m      62063.94\u001b[0m\u001b[32m \u001b[0m│\u001b[32m \u001b[0m\u001b[32m     36778.20\u001b[0m\u001b[32m \u001b[0m│\n",
       "│\u001b[36m \u001b[0m\u001b[36mtrainable_parameters      \u001b[0m\u001b[36m \u001b[0m│\u001b[32m \u001b[0m\u001b[32m   12850788.00\u001b[0m\u001b[32m \u001b[0m│\u001b[32m \u001b[0m\u001b[32m   12850788.00\u001b[0m\u001b[32m \u001b[0m│\u001b[32m \u001b[0m\u001b[32m          nan\u001b[0m\u001b[32m \u001b[0m│\n",
       "│\u001b[36m \u001b[0m\u001b[36m_timestamp                \u001b[0m\u001b[36m \u001b[0m│\u001b[32m \u001b[0m\u001b[32m 1738217136.51\u001b[0m\u001b[32m \u001b[0m│\u001b[32m \u001b[0m\u001b[32m 1738215288.38\u001b[0m\u001b[32m \u001b[0m│\u001b[32m \u001b[0m\u001b[32m     36778.20\u001b[0m\u001b[32m \u001b[0m│\n",
       "│\u001b[36m \u001b[0m\u001b[36mTotal Bytes Sent          \u001b[0m\u001b[36m \u001b[0m│\u001b[32m \u001b[0m\u001b[32m  539745433.50\u001b[0m\u001b[32m \u001b[0m│\u001b[32m \u001b[0m\u001b[32m  539745433.50\u001b[0m\u001b[32m \u001b[0m│\u001b[32m \u001b[0m\u001b[32m 304112099.73\u001b[0m\u001b[32m \u001b[0m│\n",
       "│\u001b[36m \u001b[0m\u001b[36mBytes Sent (Round)        \u001b[0m\u001b[36m \u001b[0m│\u001b[32m \u001b[0m\u001b[32m   51404327.00\u001b[0m\u001b[32m \u001b[0m│\u001b[32m \u001b[0m\u001b[32m   51404327.00\u001b[0m\u001b[32m \u001b[0m│\u001b[32m \u001b[0m\u001b[32m         0.00\u001b[0m\u001b[32m \u001b[0m│\n",
       "│\u001b[36m \u001b[0m\u001b[36mround                     \u001b[0m\u001b[36m \u001b[0m│\u001b[32m \u001b[0m\u001b[32m         10.50\u001b[0m\u001b[32m \u001b[0m│\u001b[32m \u001b[0m\u001b[32m         10.50\u001b[0m\u001b[32m \u001b[0m│\u001b[32m \u001b[0m\u001b[32m         5.92\u001b[0m\u001b[32m \u001b[0m│\n",
       "│\u001b[36m \u001b[0m\u001b[36mround_time                \u001b[0m\u001b[36m \u001b[0m│\u001b[32m \u001b[0m\u001b[32m       6151.33\u001b[0m\u001b[32m \u001b[0m│\u001b[32m \u001b[0m\u001b[32m       6151.73\u001b[0m\u001b[32m \u001b[0m│\u001b[32m \u001b[0m\u001b[32m        84.13\u001b[0m\u001b[32m \u001b[0m│\n",
       "│\u001b[36m \u001b[0m\u001b[36mBytes Received (Round)    \u001b[0m\u001b[36m \u001b[0m│\u001b[32m \u001b[0m\u001b[32m 1028086540.00\u001b[0m\u001b[32m \u001b[0m│\u001b[32m \u001b[0m\u001b[32m 1028086540.00\u001b[0m\u001b[32m \u001b[0m│\u001b[32m \u001b[0m\u001b[32m         0.00\u001b[0m\u001b[32m \u001b[0m│\n",
       "│\u001b[36m \u001b[0m\u001b[36mTotal Bytes Received      \u001b[0m\u001b[36m \u001b[0m│\u001b[32m \u001b[0m\u001b[32m10794908670.00\u001b[0m\u001b[32m \u001b[0m│\u001b[32m \u001b[0m\u001b[32m10794908670.00\u001b[0m\u001b[32m \u001b[0m│\u001b[32m \u001b[0m\u001b[32m6082241994.57\u001b[0m\u001b[32m \u001b[0m│\n",
       "│\u001b[36m \u001b[0m\u001b[36mparameter_aggregation_time\u001b[0m\u001b[36m \u001b[0m│\u001b[32m \u001b[0m\u001b[32m          0.62\u001b[0m\u001b[32m \u001b[0m│\u001b[32m \u001b[0m\u001b[32m          0.62\u001b[0m\u001b[32m \u001b[0m│\u001b[32m \u001b[0m\u001b[32m         0.01\u001b[0m\u001b[32m \u001b[0m│\n",
       "│\u001b[36m \u001b[0m\u001b[36mloss_agg                  \u001b[0m\u001b[36m \u001b[0m│\u001b[32m \u001b[0m\u001b[32m          0.74\u001b[0m\u001b[32m \u001b[0m│\u001b[32m \u001b[0m\u001b[32m          0.68\u001b[0m\u001b[32m \u001b[0m│\u001b[32m \u001b[0m\u001b[32m         0.14\u001b[0m\u001b[32m \u001b[0m│\n",
       "│\u001b[36m \u001b[0m\u001b[36mmetrics_agg.accuracy      \u001b[0m\u001b[36m \u001b[0m│\u001b[32m \u001b[0m\u001b[32m         86.73\u001b[0m\u001b[32m \u001b[0m│\u001b[32m \u001b[0m\u001b[32m         88.32\u001b[0m\u001b[32m \u001b[0m│\u001b[32m \u001b[0m\u001b[32m         4.46\u001b[0m\u001b[32m \u001b[0m│\n",
       "│\u001b[36m \u001b[0m\u001b[36mmetrics_agg.precisions    \u001b[0m\u001b[36m \u001b[0m│\u001b[32m \u001b[0m\u001b[32m        100.00\u001b[0m\u001b[32m \u001b[0m│\u001b[32m \u001b[0m\u001b[32m        100.00\u001b[0m\u001b[32m \u001b[0m│\u001b[32m \u001b[0m\u001b[32m         0.00\u001b[0m\u001b[32m \u001b[0m│\n",
       "│\u001b[36m \u001b[0m\u001b[36mmetrics_agg.f1s           \u001b[0m\u001b[36m \u001b[0m│\u001b[32m \u001b[0m\u001b[32m        100.00\u001b[0m\u001b[32m \u001b[0m│\u001b[32m \u001b[0m\u001b[32m        100.00\u001b[0m\u001b[32m \u001b[0m│\u001b[32m \u001b[0m\u001b[32m         0.00\u001b[0m\u001b[32m \u001b[0m│\n",
       "│\u001b[36m \u001b[0m\u001b[36mmetrics_agg.recalls       \u001b[0m\u001b[36m \u001b[0m│\u001b[32m \u001b[0m\u001b[32m        100.00\u001b[0m\u001b[32m \u001b[0m│\u001b[32m \u001b[0m\u001b[32m        100.00\u001b[0m\u001b[32m \u001b[0m│\u001b[32m \u001b[0m\u001b[32m         0.00\u001b[0m\u001b[32m \u001b[0m│\n",
       "│\u001b[36m \u001b[0m\u001b[36mtotal_training_time       \u001b[0m\u001b[36m \u001b[0m│\u001b[32m \u001b[0m\u001b[32m     124134.89\u001b[0m\u001b[32m \u001b[0m│\u001b[32m \u001b[0m\u001b[32m     124134.89\u001b[0m\u001b[32m \u001b[0m│\u001b[32m \u001b[0m\u001b[32m          nan\u001b[0m\u001b[32m \u001b[0m│\n",
       "└────────────────────────────┴────────────────┴────────────────┴───────────────┘\n"
      ]
     },
     "metadata": {},
     "output_type": "display_data"
    },
    {
     "data": {
      "text/html": [
       "<pre style=\"white-space:pre;overflow-x:auto;line-height:normal;font-family:Menlo,'DejaVu Sans Mono',consolas,'Courier New',monospace\"><span style=\"font-style: italic\">                                           Server Statistics (Part 2)                                            </span>\n",
       "┏━━━━━━━━━━━━━━━━━━━━━━━━━━━━┳━━━━━━━━━━━━━━━┳━━━━━━━━━━━━━━━━┳━━━━━━━━━━━━━━━━┳━━━━━━━━━━━━━━━┳━━━━━━━━━━━━━━━━┓\n",
       "┃<span style=\"font-weight: bold\"> Metric                     </span>┃<span style=\"font-weight: bold\">           25% </span>┃<span style=\"font-weight: bold\">            75% </span>┃<span style=\"font-weight: bold\">            Max </span>┃<span style=\"font-weight: bold\">           Min </span>┃<span style=\"font-weight: bold\">           Last </span>┃\n",
       "┡━━━━━━━━━━━━━━━━━━━━━━━━━━━━╇━━━━━━━━━━━━━━━╇━━━━━━━━━━━━━━━━╇━━━━━━━━━━━━━━━━╇━━━━━━━━━━━━━━━╇━━━━━━━━━━━━━━━━┩\n",
       "│<span style=\"color: #008080; text-decoration-color: #008080\"> _step                      </span>│<span style=\"color: #008000; text-decoration-color: #008000\">         25.25 </span>│<span style=\"color: #008000; text-decoration-color: #008000\">          75.75 </span>│<span style=\"color: #008000; text-decoration-color: #008000\">         101.00 </span>│<span style=\"color: #008000; text-decoration-color: #008000\">          0.00 </span>│<span style=\"color: #008000; text-decoration-color: #008000\">         101.00 </span>│\n",
       "│<span style=\"color: #008080; text-decoration-color: #008080\"> _runtime                   </span>│<span style=\"color: #008000; text-decoration-color: #008000\">      30953.16 </span>│<span style=\"color: #008000; text-decoration-color: #008000\">       93153.86 </span>│<span style=\"color: #008000; text-decoration-color: #008000\">      124214.21 </span>│<span style=\"color: #008000; text-decoration-color: #008000\">         71.08 </span>│<span style=\"color: #008000; text-decoration-color: #008000\">      124214.21 </span>│\n",
       "│<span style=\"color: #008080; text-decoration-color: #008080\"> trainable_parameters       </span>│<span style=\"color: #008000; text-decoration-color: #008000\">   12850788.00 </span>│<span style=\"color: #008000; text-decoration-color: #008000\">    12850788.00 </span>│<span style=\"color: #008000; text-decoration-color: #008000\">    12850788.00 </span>│<span style=\"color: #008000; text-decoration-color: #008000\">   12850788.00 </span>│<span style=\"color: #008000; text-decoration-color: #008000\">    12850788.00 </span>│\n",
       "│<span style=\"color: #008080; text-decoration-color: #008080\"> _timestamp                 </span>│<span style=\"color: #008000; text-decoration-color: #008000\"> 1738184177.57 </span>│<span style=\"color: #008000; text-decoration-color: #008000\">  1738246378.30 </span>│<span style=\"color: #008000; text-decoration-color: #008000\">  1738277438.65 </span>│<span style=\"color: #008000; text-decoration-color: #008000\"> 1738153295.52 </span>│<span style=\"color: #008000; text-decoration-color: #008000\">  1738277438.65 </span>│\n",
       "│<span style=\"color: #008080; text-decoration-color: #008080\"> Total Bytes Sent           </span>│<span style=\"color: #008000; text-decoration-color: #008000\">  295574880.25 </span>│<span style=\"color: #008000; text-decoration-color: #008000\">   783915986.75 </span>│<span style=\"color: #008000; text-decoration-color: #008000\">  1028086540.00 </span>│<span style=\"color: #008000; text-decoration-color: #008000\">   51404327.00 </span>│<span style=\"color: #008000; text-decoration-color: #008000\">  1028086540.00 </span>│\n",
       "│<span style=\"color: #008080; text-decoration-color: #008080\"> Bytes Sent (Round)         </span>│<span style=\"color: #008000; text-decoration-color: #008000\">   51404327.00 </span>│<span style=\"color: #008000; text-decoration-color: #008000\">    51404327.00 </span>│<span style=\"color: #008000; text-decoration-color: #008000\">    51404327.00 </span>│<span style=\"color: #008000; text-decoration-color: #008000\">   51404327.00 </span>│<span style=\"color: #008000; text-decoration-color: #008000\">    51404327.00 </span>│\n",
       "│<span style=\"color: #008080; text-decoration-color: #008080\"> round                      </span>│<span style=\"color: #008000; text-decoration-color: #008000\">          5.75 </span>│<span style=\"color: #008000; text-decoration-color: #008000\">          15.25 </span>│<span style=\"color: #008000; text-decoration-color: #008000\">          20.00 </span>│<span style=\"color: #008000; text-decoration-color: #008000\">          1.00 </span>│<span style=\"color: #008000; text-decoration-color: #008000\">          20.00 </span>│\n",
       "│<span style=\"color: #008080; text-decoration-color: #008080\"> round_time                 </span>│<span style=\"color: #008000; text-decoration-color: #008000\">       6101.70 </span>│<span style=\"color: #008000; text-decoration-color: #008000\">        6174.96 </span>│<span style=\"color: #008000; text-decoration-color: #008000\">        6384.66 </span>│<span style=\"color: #008000; text-decoration-color: #008000\">       5990.96 </span>│<span style=\"color: #008000; text-decoration-color: #008000\">        6148.15 </span>│\n",
       "│<span style=\"color: #008080; text-decoration-color: #008080\"> Bytes Received (Round)     </span>│<span style=\"color: #008000; text-decoration-color: #008000\"> 1028086540.00 </span>│<span style=\"color: #008000; text-decoration-color: #008000\">  1028086540.00 </span>│<span style=\"color: #008000; text-decoration-color: #008000\">  1028086540.00 </span>│<span style=\"color: #008000; text-decoration-color: #008000\"> 1028086540.00 </span>│<span style=\"color: #008000; text-decoration-color: #008000\">  1028086540.00 </span>│\n",
       "│<span style=\"color: #008080; text-decoration-color: #008080\"> Total Bytes Received       </span>│<span style=\"color: #008000; text-decoration-color: #008000\"> 5911497605.00 </span>│<span style=\"color: #008000; text-decoration-color: #008000\"> 15678319735.00 </span>│<span style=\"color: #008000; text-decoration-color: #008000\"> 20561730800.00 </span>│<span style=\"color: #008000; text-decoration-color: #008000\"> 1028086540.00 </span>│<span style=\"color: #008000; text-decoration-color: #008000\"> 20561730800.00 </span>│\n",
       "│<span style=\"color: #008080; text-decoration-color: #008080\"> parameter_aggregation_time </span>│<span style=\"color: #008000; text-decoration-color: #008000\">          0.61 </span>│<span style=\"color: #008000; text-decoration-color: #008000\">           0.62 </span>│<span style=\"color: #008000; text-decoration-color: #008000\">           0.66 </span>│<span style=\"color: #008000; text-decoration-color: #008000\">          0.59 </span>│<span style=\"color: #008000; text-decoration-color: #008000\">           0.60 </span>│\n",
       "│<span style=\"color: #008080; text-decoration-color: #008080\"> loss_agg                   </span>│<span style=\"color: #008000; text-decoration-color: #008000\">          0.66 </span>│<span style=\"color: #008000; text-decoration-color: #008000\">           0.83 </span>│<span style=\"color: #008000; text-decoration-color: #008000\">           0.98 </span>│<span style=\"color: #008000; text-decoration-color: #008000\">          0.54 </span>│<span style=\"color: #008000; text-decoration-color: #008000\">           0.92 </span>│\n",
       "│<span style=\"color: #008080; text-decoration-color: #008080\"> metrics_agg.accuracy       </span>│<span style=\"color: #008000; text-decoration-color: #008000\">         85.92 </span>│<span style=\"color: #008000; text-decoration-color: #008000\">          89.48 </span>│<span style=\"color: #008000; text-decoration-color: #008000\">          90.91 </span>│<span style=\"color: #008000; text-decoration-color: #008000\">         71.64 </span>│<span style=\"color: #008000; text-decoration-color: #008000\">          90.91 </span>│\n",
       "│<span style=\"color: #008080; text-decoration-color: #008080\"> metrics_agg.precisions     </span>│<span style=\"color: #008000; text-decoration-color: #008000\">        100.00 </span>│<span style=\"color: #008000; text-decoration-color: #008000\">         100.00 </span>│<span style=\"color: #008000; text-decoration-color: #008000\">         100.00 </span>│<span style=\"color: #008000; text-decoration-color: #008000\">        100.00 </span>│<span style=\"color: #008000; text-decoration-color: #008000\">         100.00 </span>│\n",
       "│<span style=\"color: #008080; text-decoration-color: #008080\"> metrics_agg.f1s            </span>│<span style=\"color: #008000; text-decoration-color: #008000\">        100.00 </span>│<span style=\"color: #008000; text-decoration-color: #008000\">         100.00 </span>│<span style=\"color: #008000; text-decoration-color: #008000\">         100.00 </span>│<span style=\"color: #008000; text-decoration-color: #008000\">        100.00 </span>│<span style=\"color: #008000; text-decoration-color: #008000\">         100.00 </span>│\n",
       "│<span style=\"color: #008080; text-decoration-color: #008080\"> metrics_agg.recalls        </span>│<span style=\"color: #008000; text-decoration-color: #008000\">        100.00 </span>│<span style=\"color: #008000; text-decoration-color: #008000\">         100.00 </span>│<span style=\"color: #008000; text-decoration-color: #008000\">         100.00 </span>│<span style=\"color: #008000; text-decoration-color: #008000\">        100.00 </span>│<span style=\"color: #008000; text-decoration-color: #008000\">         100.00 </span>│\n",
       "│<span style=\"color: #008080; text-decoration-color: #008080\"> total_training_time        </span>│<span style=\"color: #008000; text-decoration-color: #008000\">     124134.89 </span>│<span style=\"color: #008000; text-decoration-color: #008000\">      124134.89 </span>│<span style=\"color: #008000; text-decoration-color: #008000\">      124134.89 </span>│<span style=\"color: #008000; text-decoration-color: #008000\">     124134.89 </span>│<span style=\"color: #008000; text-decoration-color: #008000\">      124134.89 </span>│\n",
       "└────────────────────────────┴───────────────┴────────────────┴────────────────┴───────────────┴────────────────┘\n",
       "</pre>\n"
      ],
      "text/plain": [
       "\u001b[3m                                           Server Statistics (Part 2)                                            \u001b[0m\n",
       "┏━━━━━━━━━━━━━━━━━━━━━━━━━━━━┳━━━━━━━━━━━━━━━┳━━━━━━━━━━━━━━━━┳━━━━━━━━━━━━━━━━┳━━━━━━━━━━━━━━━┳━━━━━━━━━━━━━━━━┓\n",
       "┃\u001b[1m \u001b[0m\u001b[1mMetric                    \u001b[0m\u001b[1m \u001b[0m┃\u001b[1m \u001b[0m\u001b[1m          25%\u001b[0m\u001b[1m \u001b[0m┃\u001b[1m \u001b[0m\u001b[1m           75%\u001b[0m\u001b[1m \u001b[0m┃\u001b[1m \u001b[0m\u001b[1m           Max\u001b[0m\u001b[1m \u001b[0m┃\u001b[1m \u001b[0m\u001b[1m          Min\u001b[0m\u001b[1m \u001b[0m┃\u001b[1m \u001b[0m\u001b[1m          Last\u001b[0m\u001b[1m \u001b[0m┃\n",
       "┡━━━━━━━━━━━━━━━━━━━━━━━━━━━━╇━━━━━━━━━━━━━━━╇━━━━━━━━━━━━━━━━╇━━━━━━━━━━━━━━━━╇━━━━━━━━━━━━━━━╇━━━━━━━━━━━━━━━━┩\n",
       "│\u001b[36m \u001b[0m\u001b[36m_step                     \u001b[0m\u001b[36m \u001b[0m│\u001b[32m \u001b[0m\u001b[32m        25.25\u001b[0m\u001b[32m \u001b[0m│\u001b[32m \u001b[0m\u001b[32m         75.75\u001b[0m\u001b[32m \u001b[0m│\u001b[32m \u001b[0m\u001b[32m        101.00\u001b[0m\u001b[32m \u001b[0m│\u001b[32m \u001b[0m\u001b[32m         0.00\u001b[0m\u001b[32m \u001b[0m│\u001b[32m \u001b[0m\u001b[32m        101.00\u001b[0m\u001b[32m \u001b[0m│\n",
       "│\u001b[36m \u001b[0m\u001b[36m_runtime                  \u001b[0m\u001b[36m \u001b[0m│\u001b[32m \u001b[0m\u001b[32m     30953.16\u001b[0m\u001b[32m \u001b[0m│\u001b[32m \u001b[0m\u001b[32m      93153.86\u001b[0m\u001b[32m \u001b[0m│\u001b[32m \u001b[0m\u001b[32m     124214.21\u001b[0m\u001b[32m \u001b[0m│\u001b[32m \u001b[0m\u001b[32m        71.08\u001b[0m\u001b[32m \u001b[0m│\u001b[32m \u001b[0m\u001b[32m     124214.21\u001b[0m\u001b[32m \u001b[0m│\n",
       "│\u001b[36m \u001b[0m\u001b[36mtrainable_parameters      \u001b[0m\u001b[36m \u001b[0m│\u001b[32m \u001b[0m\u001b[32m  12850788.00\u001b[0m\u001b[32m \u001b[0m│\u001b[32m \u001b[0m\u001b[32m   12850788.00\u001b[0m\u001b[32m \u001b[0m│\u001b[32m \u001b[0m\u001b[32m   12850788.00\u001b[0m\u001b[32m \u001b[0m│\u001b[32m \u001b[0m\u001b[32m  12850788.00\u001b[0m\u001b[32m \u001b[0m│\u001b[32m \u001b[0m\u001b[32m   12850788.00\u001b[0m\u001b[32m \u001b[0m│\n",
       "│\u001b[36m \u001b[0m\u001b[36m_timestamp                \u001b[0m\u001b[36m \u001b[0m│\u001b[32m \u001b[0m\u001b[32m1738184177.57\u001b[0m\u001b[32m \u001b[0m│\u001b[32m \u001b[0m\u001b[32m 1738246378.30\u001b[0m\u001b[32m \u001b[0m│\u001b[32m \u001b[0m\u001b[32m 1738277438.65\u001b[0m\u001b[32m \u001b[0m│\u001b[32m \u001b[0m\u001b[32m1738153295.52\u001b[0m\u001b[32m \u001b[0m│\u001b[32m \u001b[0m\u001b[32m 1738277438.65\u001b[0m\u001b[32m \u001b[0m│\n",
       "│\u001b[36m \u001b[0m\u001b[36mTotal Bytes Sent          \u001b[0m\u001b[36m \u001b[0m│\u001b[32m \u001b[0m\u001b[32m 295574880.25\u001b[0m\u001b[32m \u001b[0m│\u001b[32m \u001b[0m\u001b[32m  783915986.75\u001b[0m\u001b[32m \u001b[0m│\u001b[32m \u001b[0m\u001b[32m 1028086540.00\u001b[0m\u001b[32m \u001b[0m│\u001b[32m \u001b[0m\u001b[32m  51404327.00\u001b[0m\u001b[32m \u001b[0m│\u001b[32m \u001b[0m\u001b[32m 1028086540.00\u001b[0m\u001b[32m \u001b[0m│\n",
       "│\u001b[36m \u001b[0m\u001b[36mBytes Sent (Round)        \u001b[0m\u001b[36m \u001b[0m│\u001b[32m \u001b[0m\u001b[32m  51404327.00\u001b[0m\u001b[32m \u001b[0m│\u001b[32m \u001b[0m\u001b[32m   51404327.00\u001b[0m\u001b[32m \u001b[0m│\u001b[32m \u001b[0m\u001b[32m   51404327.00\u001b[0m\u001b[32m \u001b[0m│\u001b[32m \u001b[0m\u001b[32m  51404327.00\u001b[0m\u001b[32m \u001b[0m│\u001b[32m \u001b[0m\u001b[32m   51404327.00\u001b[0m\u001b[32m \u001b[0m│\n",
       "│\u001b[36m \u001b[0m\u001b[36mround                     \u001b[0m\u001b[36m \u001b[0m│\u001b[32m \u001b[0m\u001b[32m         5.75\u001b[0m\u001b[32m \u001b[0m│\u001b[32m \u001b[0m\u001b[32m         15.25\u001b[0m\u001b[32m \u001b[0m│\u001b[32m \u001b[0m\u001b[32m         20.00\u001b[0m\u001b[32m \u001b[0m│\u001b[32m \u001b[0m\u001b[32m         1.00\u001b[0m\u001b[32m \u001b[0m│\u001b[32m \u001b[0m\u001b[32m         20.00\u001b[0m\u001b[32m \u001b[0m│\n",
       "│\u001b[36m \u001b[0m\u001b[36mround_time                \u001b[0m\u001b[36m \u001b[0m│\u001b[32m \u001b[0m\u001b[32m      6101.70\u001b[0m\u001b[32m \u001b[0m│\u001b[32m \u001b[0m\u001b[32m       6174.96\u001b[0m\u001b[32m \u001b[0m│\u001b[32m \u001b[0m\u001b[32m       6384.66\u001b[0m\u001b[32m \u001b[0m│\u001b[32m \u001b[0m\u001b[32m      5990.96\u001b[0m\u001b[32m \u001b[0m│\u001b[32m \u001b[0m\u001b[32m       6148.15\u001b[0m\u001b[32m \u001b[0m│\n",
       "│\u001b[36m \u001b[0m\u001b[36mBytes Received (Round)    \u001b[0m\u001b[36m \u001b[0m│\u001b[32m \u001b[0m\u001b[32m1028086540.00\u001b[0m\u001b[32m \u001b[0m│\u001b[32m \u001b[0m\u001b[32m 1028086540.00\u001b[0m\u001b[32m \u001b[0m│\u001b[32m \u001b[0m\u001b[32m 1028086540.00\u001b[0m\u001b[32m \u001b[0m│\u001b[32m \u001b[0m\u001b[32m1028086540.00\u001b[0m\u001b[32m \u001b[0m│\u001b[32m \u001b[0m\u001b[32m 1028086540.00\u001b[0m\u001b[32m \u001b[0m│\n",
       "│\u001b[36m \u001b[0m\u001b[36mTotal Bytes Received      \u001b[0m\u001b[36m \u001b[0m│\u001b[32m \u001b[0m\u001b[32m5911497605.00\u001b[0m\u001b[32m \u001b[0m│\u001b[32m \u001b[0m\u001b[32m15678319735.00\u001b[0m\u001b[32m \u001b[0m│\u001b[32m \u001b[0m\u001b[32m20561730800.00\u001b[0m\u001b[32m \u001b[0m│\u001b[32m \u001b[0m\u001b[32m1028086540.00\u001b[0m\u001b[32m \u001b[0m│\u001b[32m \u001b[0m\u001b[32m20561730800.00\u001b[0m\u001b[32m \u001b[0m│\n",
       "│\u001b[36m \u001b[0m\u001b[36mparameter_aggregation_time\u001b[0m\u001b[36m \u001b[0m│\u001b[32m \u001b[0m\u001b[32m         0.61\u001b[0m\u001b[32m \u001b[0m│\u001b[32m \u001b[0m\u001b[32m          0.62\u001b[0m\u001b[32m \u001b[0m│\u001b[32m \u001b[0m\u001b[32m          0.66\u001b[0m\u001b[32m \u001b[0m│\u001b[32m \u001b[0m\u001b[32m         0.59\u001b[0m\u001b[32m \u001b[0m│\u001b[32m \u001b[0m\u001b[32m          0.60\u001b[0m\u001b[32m \u001b[0m│\n",
       "│\u001b[36m \u001b[0m\u001b[36mloss_agg                  \u001b[0m\u001b[36m \u001b[0m│\u001b[32m \u001b[0m\u001b[32m         0.66\u001b[0m\u001b[32m \u001b[0m│\u001b[32m \u001b[0m\u001b[32m          0.83\u001b[0m\u001b[32m \u001b[0m│\u001b[32m \u001b[0m\u001b[32m          0.98\u001b[0m\u001b[32m \u001b[0m│\u001b[32m \u001b[0m\u001b[32m         0.54\u001b[0m\u001b[32m \u001b[0m│\u001b[32m \u001b[0m\u001b[32m          0.92\u001b[0m\u001b[32m \u001b[0m│\n",
       "│\u001b[36m \u001b[0m\u001b[36mmetrics_agg.accuracy      \u001b[0m\u001b[36m \u001b[0m│\u001b[32m \u001b[0m\u001b[32m        85.92\u001b[0m\u001b[32m \u001b[0m│\u001b[32m \u001b[0m\u001b[32m         89.48\u001b[0m\u001b[32m \u001b[0m│\u001b[32m \u001b[0m\u001b[32m         90.91\u001b[0m\u001b[32m \u001b[0m│\u001b[32m \u001b[0m\u001b[32m        71.64\u001b[0m\u001b[32m \u001b[0m│\u001b[32m \u001b[0m\u001b[32m         90.91\u001b[0m\u001b[32m \u001b[0m│\n",
       "│\u001b[36m \u001b[0m\u001b[36mmetrics_agg.precisions    \u001b[0m\u001b[36m \u001b[0m│\u001b[32m \u001b[0m\u001b[32m       100.00\u001b[0m\u001b[32m \u001b[0m│\u001b[32m \u001b[0m\u001b[32m        100.00\u001b[0m\u001b[32m \u001b[0m│\u001b[32m \u001b[0m\u001b[32m        100.00\u001b[0m\u001b[32m \u001b[0m│\u001b[32m \u001b[0m\u001b[32m       100.00\u001b[0m\u001b[32m \u001b[0m│\u001b[32m \u001b[0m\u001b[32m        100.00\u001b[0m\u001b[32m \u001b[0m│\n",
       "│\u001b[36m \u001b[0m\u001b[36mmetrics_agg.f1s           \u001b[0m\u001b[36m \u001b[0m│\u001b[32m \u001b[0m\u001b[32m       100.00\u001b[0m\u001b[32m \u001b[0m│\u001b[32m \u001b[0m\u001b[32m        100.00\u001b[0m\u001b[32m \u001b[0m│\u001b[32m \u001b[0m\u001b[32m        100.00\u001b[0m\u001b[32m \u001b[0m│\u001b[32m \u001b[0m\u001b[32m       100.00\u001b[0m\u001b[32m \u001b[0m│\u001b[32m \u001b[0m\u001b[32m        100.00\u001b[0m\u001b[32m \u001b[0m│\n",
       "│\u001b[36m \u001b[0m\u001b[36mmetrics_agg.recalls       \u001b[0m\u001b[36m \u001b[0m│\u001b[32m \u001b[0m\u001b[32m       100.00\u001b[0m\u001b[32m \u001b[0m│\u001b[32m \u001b[0m\u001b[32m        100.00\u001b[0m\u001b[32m \u001b[0m│\u001b[32m \u001b[0m\u001b[32m        100.00\u001b[0m\u001b[32m \u001b[0m│\u001b[32m \u001b[0m\u001b[32m       100.00\u001b[0m\u001b[32m \u001b[0m│\u001b[32m \u001b[0m\u001b[32m        100.00\u001b[0m\u001b[32m \u001b[0m│\n",
       "│\u001b[36m \u001b[0m\u001b[36mtotal_training_time       \u001b[0m\u001b[36m \u001b[0m│\u001b[32m \u001b[0m\u001b[32m    124134.89\u001b[0m\u001b[32m \u001b[0m│\u001b[32m \u001b[0m\u001b[32m     124134.89\u001b[0m\u001b[32m \u001b[0m│\u001b[32m \u001b[0m\u001b[32m     124134.89\u001b[0m\u001b[32m \u001b[0m│\u001b[32m \u001b[0m\u001b[32m    124134.89\u001b[0m\u001b[32m \u001b[0m│\u001b[32m \u001b[0m\u001b[32m     124134.89\u001b[0m\u001b[32m \u001b[0m│\n",
       "└────────────────────────────┴───────────────┴────────────────┴────────────────┴───────────────┴────────────────┘\n"
      ]
     },
     "metadata": {},
     "output_type": "display_data"
    }
   ],
   "source": [
    "from rich.console import Console\n",
    "from rich.table import Table\n",
    "\n",
    "console = Console()\n",
    "\n",
    "# Create Table 1 (Basic Stats: Mean, Median, Std)\n",
    "table1 = Table(title=\"Server Statistics (Part 1)\")\n",
    "table1.add_column(\"Metric\", justify=\"left\", style=\"cyan\", min_width=20)\n",
    "table1.add_column(\"Mean\", justify=\"right\", style=\"green\", min_width=12)\n",
    "table1.add_column(\"Median\", justify=\"right\", style=\"green\", min_width=12)\n",
    "table1.add_column(\"Std\", justify=\"right\", style=\"green\", min_width=12)\n",
    "\n",
    "# Create Table 2 (Percentiles + Min/Max/Last Value)\n",
    "table2 = Table(title=\"Server Statistics (Part 2)\")\n",
    "table2.add_column(\"Metric\", justify=\"left\", style=\"cyan\", min_width=20)\n",
    "table2.add_column(\"25%\", justify=\"right\", style=\"green\", min_width=12)\n",
    "table2.add_column(\"75%\", justify=\"right\", style=\"green\", min_width=12)\n",
    "table2.add_column(\"Max\", justify=\"right\", style=\"green\", min_width=12)\n",
    "table2.add_column(\"Min\", justify=\"right\", style=\"green\", min_width=12)\n",
    "table2.add_column(\"Last\", justify=\"right\", style=\"green\", min_width=12)\n",
    "\n",
    "server_history = server.history()\n",
    "for metric in server_history.keys():\n",
    "    metric_values = [val for val in server_history[metric] if not np.isnan(val)]\n",
    "    stats = compute_statistics(metric_values)\n",
    "\n",
    "    # Add row to Table 1\n",
    "    table1.add_row(\n",
    "        metric,\n",
    "        f\"{stats['mean']:.2f}\",\n",
    "        f\"{stats['median']:.2f}\",\n",
    "        f\"{stats['std']:.2f}\"\n",
    "    )\n",
    "\n",
    "    # Add row to Table 2\n",
    "    table2.add_row(\n",
    "        metric,\n",
    "        f\"{stats['25%']:.2f}\",\n",
    "        f\"{stats['75%']:.2f}\",\n",
    "        f\"{stats['max']:.2f}\",\n",
    "        f\"{stats['min']:.2f}\",\n",
    "        f\"{stats['last_value']:.2f}\"\n",
    "    )\n",
    "\n",
    "\n",
    "console.print(table1)\n",
    "console.print(table2)"
   ]
  },
  {
   "cell_type": "markdown",
   "metadata": {},
   "source": [
    "## Client Metrics"
   ]
  },
  {
   "cell_type": "code",
   "execution_count": 7,
   "metadata": {},
   "outputs": [
    {
     "data": {
      "text/html": [
       "<pre style=\"white-space:pre;overflow-x:auto;line-height:normal;font-family:Menlo,'DejaVu Sans Mono',consolas,'Courier New',monospace\"><span style=\"font-style: italic\">               Merged Client Metrics Statistics (Part 1)               </span>\n",
       "┏━━━━━━━━━━━━━━━━━━━━━━┳━━━━━━━━━━━━━━━┳━━━━━━━━━━━━━━━┳━━━━━━━━━━━━━━┓\n",
       "┃<span style=\"font-weight: bold\"> Metric               </span>┃<span style=\"font-weight: bold\">          Mean </span>┃<span style=\"font-weight: bold\">        Median </span>┃<span style=\"font-weight: bold\">          Std </span>┃\n",
       "┡━━━━━━━━━━━━━━━━━━━━━━╇━━━━━━━━━━━━━━━╇━━━━━━━━━━━━━━━╇━━━━━━━━━━━━━━┩\n",
       "│<span style=\"color: #008080; text-decoration-color: #008080\"> _timestamp           </span>│<span style=\"color: #008000; text-decoration-color: #008000\"> 1738216806.65 </span>│<span style=\"color: #008000; text-decoration-color: #008000\"> 1738215266.86 </span>│<span style=\"color: #008000; text-decoration-color: #008000\">     35928.39 </span>│\n",
       "│<span style=\"color: #008080; text-decoration-color: #008080\"> decryption_time      </span>│<span style=\"color: #008000; text-decoration-color: #008000\">          0.98 </span>│<span style=\"color: #008000; text-decoration-color: #008000\">          0.97 </span>│<span style=\"color: #008000; text-decoration-color: #008000\">         0.06 </span>│\n",
       "│<span style=\"color: #008080; text-decoration-color: #008080\"> encryption_time      </span>│<span style=\"color: #008000; text-decoration-color: #008000\">          0.00 </span>│<span style=\"color: #008000; text-decoration-color: #008000\">          0.00 </span>│<span style=\"color: #008000; text-decoration-color: #008000\">         0.00 </span>│\n",
       "│<span style=\"color: #008080; text-decoration-color: #008080\"> client_round_time    </span>│<span style=\"color: #008000; text-decoration-color: #008000\">       6049.54 </span>│<span style=\"color: #008000; text-decoration-color: #008000\">       6040.53 </span>│<span style=\"color: #008000; text-decoration-color: #008000\">        99.71 </span>│\n",
       "│<span style=\"color: #008080; text-decoration-color: #008080\"> _step                </span>│<span style=\"color: #008000; text-decoration-color: #008000\">         39.50 </span>│<span style=\"color: #008000; text-decoration-color: #008000\">         39.50 </span>│<span style=\"color: #008000; text-decoration-color: #008000\">        23.10 </span>│\n",
       "│<span style=\"color: #008080; text-decoration-color: #008080\"> _runtime             </span>│<span style=\"color: #008000; text-decoration-color: #008000\">      63470.10 </span>│<span style=\"color: #008000; text-decoration-color: #008000\">      61930.31 </span>│<span style=\"color: #008000; text-decoration-color: #008000\">     35928.39 </span>│\n",
       "└──────────────────────┴───────────────┴───────────────┴──────────────┘\n",
       "</pre>\n"
      ],
      "text/plain": [
       "\u001b[3m               Merged Client Metrics Statistics (Part 1)               \u001b[0m\n",
       "┏━━━━━━━━━━━━━━━━━━━━━━┳━━━━━━━━━━━━━━━┳━━━━━━━━━━━━━━━┳━━━━━━━━━━━━━━┓\n",
       "┃\u001b[1m \u001b[0m\u001b[1mMetric              \u001b[0m\u001b[1m \u001b[0m┃\u001b[1m \u001b[0m\u001b[1m         Mean\u001b[0m\u001b[1m \u001b[0m┃\u001b[1m \u001b[0m\u001b[1m       Median\u001b[0m\u001b[1m \u001b[0m┃\u001b[1m \u001b[0m\u001b[1m         Std\u001b[0m\u001b[1m \u001b[0m┃\n",
       "┡━━━━━━━━━━━━━━━━━━━━━━╇━━━━━━━━━━━━━━━╇━━━━━━━━━━━━━━━╇━━━━━━━━━━━━━━┩\n",
       "│\u001b[36m \u001b[0m\u001b[36m_timestamp          \u001b[0m\u001b[36m \u001b[0m│\u001b[32m \u001b[0m\u001b[32m1738216806.65\u001b[0m\u001b[32m \u001b[0m│\u001b[32m \u001b[0m\u001b[32m1738215266.86\u001b[0m\u001b[32m \u001b[0m│\u001b[32m \u001b[0m\u001b[32m    35928.39\u001b[0m\u001b[32m \u001b[0m│\n",
       "│\u001b[36m \u001b[0m\u001b[36mdecryption_time     \u001b[0m\u001b[36m \u001b[0m│\u001b[32m \u001b[0m\u001b[32m         0.98\u001b[0m\u001b[32m \u001b[0m│\u001b[32m \u001b[0m\u001b[32m         0.97\u001b[0m\u001b[32m \u001b[0m│\u001b[32m \u001b[0m\u001b[32m        0.06\u001b[0m\u001b[32m \u001b[0m│\n",
       "│\u001b[36m \u001b[0m\u001b[36mencryption_time     \u001b[0m\u001b[36m \u001b[0m│\u001b[32m \u001b[0m\u001b[32m         0.00\u001b[0m\u001b[32m \u001b[0m│\u001b[32m \u001b[0m\u001b[32m         0.00\u001b[0m\u001b[32m \u001b[0m│\u001b[32m \u001b[0m\u001b[32m        0.00\u001b[0m\u001b[32m \u001b[0m│\n",
       "│\u001b[36m \u001b[0m\u001b[36mclient_round_time   \u001b[0m\u001b[36m \u001b[0m│\u001b[32m \u001b[0m\u001b[32m      6049.54\u001b[0m\u001b[32m \u001b[0m│\u001b[32m \u001b[0m\u001b[32m      6040.53\u001b[0m\u001b[32m \u001b[0m│\u001b[32m \u001b[0m\u001b[32m       99.71\u001b[0m\u001b[32m \u001b[0m│\n",
       "│\u001b[36m \u001b[0m\u001b[36m_step               \u001b[0m\u001b[36m \u001b[0m│\u001b[32m \u001b[0m\u001b[32m        39.50\u001b[0m\u001b[32m \u001b[0m│\u001b[32m \u001b[0m\u001b[32m        39.50\u001b[0m\u001b[32m \u001b[0m│\u001b[32m \u001b[0m\u001b[32m       23.10\u001b[0m\u001b[32m \u001b[0m│\n",
       "│\u001b[36m \u001b[0m\u001b[36m_runtime            \u001b[0m\u001b[36m \u001b[0m│\u001b[32m \u001b[0m\u001b[32m     63470.10\u001b[0m\u001b[32m \u001b[0m│\u001b[32m \u001b[0m\u001b[32m     61930.31\u001b[0m\u001b[32m \u001b[0m│\u001b[32m \u001b[0m\u001b[32m    35928.39\u001b[0m\u001b[32m \u001b[0m│\n",
       "└──────────────────────┴───────────────┴───────────────┴──────────────┘\n"
      ]
     },
     "metadata": {},
     "output_type": "display_data"
    },
    {
     "data": {
      "text/html": [
       "<pre style=\"white-space:pre;overflow-x:auto;line-height:normal;font-family:Menlo,'DejaVu Sans Mono',consolas,'Courier New',monospace\"><span style=\"font-style: italic\">                               Merged Client Metrics Statistics (Part 2)                                </span>\n",
       "┏━━━━━━━━━━━━━━━━━━━━━━┳━━━━━━━━━━━━━━━┳━━━━━━━━━━━━━━━┳━━━━━━━━━━━━━━━┳━━━━━━━━━━━━━━━┳━━━━━━━━━━━━━━━┓\n",
       "┃<span style=\"font-weight: bold\"> Metric               </span>┃<span style=\"font-weight: bold\">           25% </span>┃<span style=\"font-weight: bold\">           75% </span>┃<span style=\"font-weight: bold\">           Max </span>┃<span style=\"font-weight: bold\">           Min </span>┃<span style=\"font-weight: bold\">          Last </span>┃\n",
       "┡━━━━━━━━━━━━━━━━━━━━━━╇━━━━━━━━━━━━━━━╇━━━━━━━━━━━━━━━╇━━━━━━━━━━━━━━━╇━━━━━━━━━━━━━━━╇━━━━━━━━━━━━━━━┩\n",
       "│<span style=\"color: #008080; text-decoration-color: #008080\"> _timestamp           </span>│<span style=\"color: #008000; text-decoration-color: #008000\"> 1738184166.12 </span>│<span style=\"color: #008000; text-decoration-color: #008000\"> 1738246345.22 </span>│<span style=\"color: #008000; text-decoration-color: #008000\"> 1738277391.43 </span>│<span style=\"color: #008000; text-decoration-color: #008000\"> 1738153402.06 </span>│<span style=\"color: #008000; text-decoration-color: #008000\"> 1738277390.88 </span>│\n",
       "│<span style=\"color: #008080; text-decoration-color: #008080\"> decryption_time      </span>│<span style=\"color: #008000; text-decoration-color: #008000\">          0.95 </span>│<span style=\"color: #008000; text-decoration-color: #008000\">          1.00 </span>│<span style=\"color: #008000; text-decoration-color: #008000\">          1.50 </span>│<span style=\"color: #008000; text-decoration-color: #008000\">          0.91 </span>│<span style=\"color: #008000; text-decoration-color: #008000\">          0.95 </span>│\n",
       "│<span style=\"color: #008080; text-decoration-color: #008080\"> encryption_time      </span>│<span style=\"color: #008000; text-decoration-color: #008000\">          0.00 </span>│<span style=\"color: #008000; text-decoration-color: #008000\">          0.00 </span>│<span style=\"color: #008000; text-decoration-color: #008000\">          0.02 </span>│<span style=\"color: #008000; text-decoration-color: #008000\">          0.00 </span>│<span style=\"color: #008000; text-decoration-color: #008000\">          0.00 </span>│\n",
       "│<span style=\"color: #008080; text-decoration-color: #008080\"> client_round_time    </span>│<span style=\"color: #008000; text-decoration-color: #008000\">       5983.24 </span>│<span style=\"color: #008000; text-decoration-color: #008000\">       6109.36 </span>│<span style=\"color: #008000; text-decoration-color: #008000\">       6380.94 </span>│<span style=\"color: #008000; text-decoration-color: #008000\">       5792.86 </span>│<span style=\"color: #008000; text-decoration-color: #008000\">       6076.31 </span>│\n",
       "│<span style=\"color: #008080; text-decoration-color: #008080\"> _step                </span>│<span style=\"color: #008000; text-decoration-color: #008000\">         19.75 </span>│<span style=\"color: #008000; text-decoration-color: #008000\">         59.25 </span>│<span style=\"color: #008000; text-decoration-color: #008000\">         79.00 </span>│<span style=\"color: #008000; text-decoration-color: #008000\">          0.00 </span>│<span style=\"color: #008000; text-decoration-color: #008000\">         79.00 </span>│\n",
       "│<span style=\"color: #008080; text-decoration-color: #008080\"> _runtime             </span>│<span style=\"color: #008000; text-decoration-color: #008000\">      30829.57 </span>│<span style=\"color: #008000; text-decoration-color: #008000\">      93008.68 </span>│<span style=\"color: #008000; text-decoration-color: #008000\">     124054.88 </span>│<span style=\"color: #008000; text-decoration-color: #008000\">         65.51 </span>│<span style=\"color: #008000; text-decoration-color: #008000\">     124054.33 </span>│\n",
       "└──────────────────────┴───────────────┴───────────────┴───────────────┴───────────────┴───────────────┘\n",
       "</pre>\n"
      ],
      "text/plain": [
       "\u001b[3m                               Merged Client Metrics Statistics (Part 2)                                \u001b[0m\n",
       "┏━━━━━━━━━━━━━━━━━━━━━━┳━━━━━━━━━━━━━━━┳━━━━━━━━━━━━━━━┳━━━━━━━━━━━━━━━┳━━━━━━━━━━━━━━━┳━━━━━━━━━━━━━━━┓\n",
       "┃\u001b[1m \u001b[0m\u001b[1mMetric              \u001b[0m\u001b[1m \u001b[0m┃\u001b[1m \u001b[0m\u001b[1m          25%\u001b[0m\u001b[1m \u001b[0m┃\u001b[1m \u001b[0m\u001b[1m          75%\u001b[0m\u001b[1m \u001b[0m┃\u001b[1m \u001b[0m\u001b[1m          Max\u001b[0m\u001b[1m \u001b[0m┃\u001b[1m \u001b[0m\u001b[1m          Min\u001b[0m\u001b[1m \u001b[0m┃\u001b[1m \u001b[0m\u001b[1m         Last\u001b[0m\u001b[1m \u001b[0m┃\n",
       "┡━━━━━━━━━━━━━━━━━━━━━━╇━━━━━━━━━━━━━━━╇━━━━━━━━━━━━━━━╇━━━━━━━━━━━━━━━╇━━━━━━━━━━━━━━━╇━━━━━━━━━━━━━━━┩\n",
       "│\u001b[36m \u001b[0m\u001b[36m_timestamp          \u001b[0m\u001b[36m \u001b[0m│\u001b[32m \u001b[0m\u001b[32m1738184166.12\u001b[0m\u001b[32m \u001b[0m│\u001b[32m \u001b[0m\u001b[32m1738246345.22\u001b[0m\u001b[32m \u001b[0m│\u001b[32m \u001b[0m\u001b[32m1738277391.43\u001b[0m\u001b[32m \u001b[0m│\u001b[32m \u001b[0m\u001b[32m1738153402.06\u001b[0m\u001b[32m \u001b[0m│\u001b[32m \u001b[0m\u001b[32m1738277390.88\u001b[0m\u001b[32m \u001b[0m│\n",
       "│\u001b[36m \u001b[0m\u001b[36mdecryption_time     \u001b[0m\u001b[36m \u001b[0m│\u001b[32m \u001b[0m\u001b[32m         0.95\u001b[0m\u001b[32m \u001b[0m│\u001b[32m \u001b[0m\u001b[32m         1.00\u001b[0m\u001b[32m \u001b[0m│\u001b[32m \u001b[0m\u001b[32m         1.50\u001b[0m\u001b[32m \u001b[0m│\u001b[32m \u001b[0m\u001b[32m         0.91\u001b[0m\u001b[32m \u001b[0m│\u001b[32m \u001b[0m\u001b[32m         0.95\u001b[0m\u001b[32m \u001b[0m│\n",
       "│\u001b[36m \u001b[0m\u001b[36mencryption_time     \u001b[0m\u001b[36m \u001b[0m│\u001b[32m \u001b[0m\u001b[32m         0.00\u001b[0m\u001b[32m \u001b[0m│\u001b[32m \u001b[0m\u001b[32m         0.00\u001b[0m\u001b[32m \u001b[0m│\u001b[32m \u001b[0m\u001b[32m         0.02\u001b[0m\u001b[32m \u001b[0m│\u001b[32m \u001b[0m\u001b[32m         0.00\u001b[0m\u001b[32m \u001b[0m│\u001b[32m \u001b[0m\u001b[32m         0.00\u001b[0m\u001b[32m \u001b[0m│\n",
       "│\u001b[36m \u001b[0m\u001b[36mclient_round_time   \u001b[0m\u001b[36m \u001b[0m│\u001b[32m \u001b[0m\u001b[32m      5983.24\u001b[0m\u001b[32m \u001b[0m│\u001b[32m \u001b[0m\u001b[32m      6109.36\u001b[0m\u001b[32m \u001b[0m│\u001b[32m \u001b[0m\u001b[32m      6380.94\u001b[0m\u001b[32m \u001b[0m│\u001b[32m \u001b[0m\u001b[32m      5792.86\u001b[0m\u001b[32m \u001b[0m│\u001b[32m \u001b[0m\u001b[32m      6076.31\u001b[0m\u001b[32m \u001b[0m│\n",
       "│\u001b[36m \u001b[0m\u001b[36m_step               \u001b[0m\u001b[36m \u001b[0m│\u001b[32m \u001b[0m\u001b[32m        19.75\u001b[0m\u001b[32m \u001b[0m│\u001b[32m \u001b[0m\u001b[32m        59.25\u001b[0m\u001b[32m \u001b[0m│\u001b[32m \u001b[0m\u001b[32m        79.00\u001b[0m\u001b[32m \u001b[0m│\u001b[32m \u001b[0m\u001b[32m         0.00\u001b[0m\u001b[32m \u001b[0m│\u001b[32m \u001b[0m\u001b[32m        79.00\u001b[0m\u001b[32m \u001b[0m│\n",
       "│\u001b[36m \u001b[0m\u001b[36m_runtime            \u001b[0m\u001b[36m \u001b[0m│\u001b[32m \u001b[0m\u001b[32m     30829.57\u001b[0m\u001b[32m \u001b[0m│\u001b[32m \u001b[0m\u001b[32m     93008.68\u001b[0m\u001b[32m \u001b[0m│\u001b[32m \u001b[0m\u001b[32m    124054.88\u001b[0m\u001b[32m \u001b[0m│\u001b[32m \u001b[0m\u001b[32m        65.51\u001b[0m\u001b[32m \u001b[0m│\u001b[32m \u001b[0m\u001b[32m    124054.33\u001b[0m\u001b[32m \u001b[0m│\n",
       "└──────────────────────┴───────────────┴───────────────┴───────────────┴───────────────┴───────────────┘\n"
      ]
     },
     "metadata": {},
     "output_type": "display_data"
    }
   ],
   "source": [
    "def compute_client_statistics(client_histories):\n",
    "    \"\"\"\n",
    "    Computes statistics for each metric by merging values across all clients.\n",
    "\n",
    "    Parameters\n",
    "    ----------\n",
    "    client_histories : list[dict]\n",
    "        A list of dictionaries where each dictionary contains metric history for a single client.\n",
    "\n",
    "    Returns\n",
    "    -------\n",
    "    dict\n",
    "        A dictionary where each key is a metric name and the value is its computed statistics.\n",
    "    \"\"\"\n",
    "    merged_metrics = {}\n",
    "\n",
    "    # Iterate through all client histories\n",
    "    for client_history in client_histories:\n",
    "        for metric, values in client_history.items():\n",
    "            # Remove NaN values and flatten lists\n",
    "            cleaned_values = [val for val in values if not np.isnan(val)]\n",
    "\n",
    "            # Merge values from all clients\n",
    "            if metric not in merged_metrics:\n",
    "                merged_metrics[metric] = []\n",
    "            merged_metrics[metric].extend(cleaned_values)\n",
    "\n",
    "    # Compute statistics for each metric\n",
    "    stats_dict = {metric: compute_statistics(np.array(values)) for metric, values in merged_metrics.items()}\n",
    "\n",
    "    return stats_dict\n",
    "\n",
    "# Example: Fetch history from multiple clients\n",
    "client_histories = [client.history() for client in clients]  # Replace with actual client list\n",
    "\n",
    "# Compute merged statistics\n",
    "merged_stats = compute_client_statistics(client_histories)\n",
    "\n",
    "# Display results using rich\n",
    "console = Console()\n",
    "\n",
    "# Create Table 1 (Basic Stats: Mean, Median, Std)\n",
    "table1 = Table(title=\"Merged Client Metrics Statistics (Part 1)\")\n",
    "table1.add_column(\"Metric\", justify=\"left\", style=\"cyan\", min_width=20)\n",
    "table1.add_column(\"Mean\", justify=\"right\", style=\"green\", min_width=12)\n",
    "table1.add_column(\"Median\", justify=\"right\", style=\"green\", min_width=12)\n",
    "table1.add_column(\"Std\", justify=\"right\", style=\"green\", min_width=12)\n",
    "\n",
    "# Create Table 2 (Percentiles + Min/Max/Last Value)\n",
    "table2 = Table(title=\"Merged Client Metrics Statistics (Part 2)\")\n",
    "table2.add_column(\"Metric\", justify=\"left\", style=\"cyan\", min_width=20)\n",
    "table2.add_column(\"25%\", justify=\"right\", style=\"green\", min_width=12)\n",
    "table2.add_column(\"75%\", justify=\"right\", style=\"green\", min_width=12)\n",
    "table2.add_column(\"Max\", justify=\"right\", style=\"green\", min_width=12)\n",
    "table2.add_column(\"Min\", justify=\"right\", style=\"green\", min_width=12)\n",
    "table2.add_column(\"Last\", justify=\"right\", style=\"green\", min_width=12)\n",
    "\n",
    "# Populate table with computed statistics\n",
    "for metric, stats in merged_stats.items():\n",
    "    table1.add_row(\n",
    "        metric,\n",
    "        f\"{stats['mean']:.2f}\",\n",
    "        f\"{stats['median']:.2f}\",\n",
    "        f\"{stats['std']:.2f}\"\n",
    "    )\n",
    "\n",
    "    # Add row to Table 2\n",
    "    table2.add_row(\n",
    "        metric,\n",
    "        f\"{stats['25%']:.2f}\",\n",
    "        f\"{stats['75%']:.2f}\",\n",
    "        f\"{stats['max']:.2f}\",\n",
    "        f\"{stats['min']:.2f}\",\n",
    "        f\"{stats['last_value']:.2f}\"\n",
    "    )\n",
    "\n",
    "# Display table\n",
    "console.print(table1)\n",
    "console.print(table2)\n"
   ]
  },
  {
   "cell_type": "markdown",
   "metadata": {},
   "source": [
    "## Other Computations"
   ]
  },
  {
   "cell_type": "code",
   "execution_count": 8,
   "metadata": {},
   "outputs": [
    {
     "data": {
      "text/plain": [
       "39.60692310333252"
      ]
     },
     "execution_count": 8,
     "metadata": {},
     "output_type": "execute_result"
    }
   ],
   "source": [
    "some_client = clients[0]\n",
    "history = some_client.history()\n",
    "metric_values = [val for val in history[\"decryption_time\"] if not np.isnan(val)]\n",
    "sum(metric_values)"
   ]
  }
 ],
 "metadata": {
  "kernelspec": {
   "display_name": ".venv",
   "language": "python",
   "name": "python3"
  },
  "language_info": {
   "codemirror_mode": {
    "name": "ipython",
    "version": 3
   },
   "file_extension": ".py",
   "mimetype": "text/x-python",
   "name": "python",
   "nbconvert_exporter": "python",
   "pygments_lexer": "ipython3",
   "version": "3.12.8"
  }
 },
 "nbformat": 4,
 "nbformat_minor": 2
}
