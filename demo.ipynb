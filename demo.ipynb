{
 "cells": [
  {
   "cell_type": "code",
   "execution_count": null,
   "id": "94500f4a",
   "metadata": {},
   "outputs": [
    {
     "name": "stderr",
     "output_type": "stream",
     "text": [
      "/usr/local/lib/python3.13/site-packages/pydantic/_internal/_generate_schema.py:2249: UnsupportedFieldAttributeWarning: The 'repr' attribute with value False was provided to the `Field()` function, which has no effect in the context it was used. 'repr' is field-specific metadata, and can only be attached to a model field using `Annotated` metadata or by assignment. This may have happened because an `Annotated` type alias using the `type` statement was used, or if the `Field()` function was attached to a single member of a union type.\n",
      "  warnings.warn(\n",
      "/usr/local/lib/python3.13/site-packages/pydantic/_internal/_generate_schema.py:2249: UnsupportedFieldAttributeWarning: The 'frozen' attribute with value True was provided to the `Field()` function, which has no effect in the context it was used. 'frozen' is field-specific metadata, and can only be attached to a model field using `Annotated` metadata or by assignment. This may have happened because an `Annotated` type alias using the `type` statement was used, or if the `Field()` function was attached to a single member of a union type.\n",
      "  warnings.warn(\n"
     ]
    }
   ],
   "source": [
    "import os\n",
    "import subprocess\n",
    "import yaml\n",
    "\n",
    "import wandb\n",
    "\n",
    "\n",
    "settings = {\n",
    "    \"wandb_project\": \"qfl-playground\",\n",
    "    \"data_path\": \"data-tiny/\",\n",
    "    \"dataset\": \"MRI\",\n",
    "    \"seed\": 0,\n",
    "    \"num_workers\": 0,\n",
    "    \"max_epochs\": 10,\n",
    "    \"batch_size\": 10,\n",
    "    \"splitter\": 10,\n",
    "    \"device\": \"cpu\",\n",
    "    \"number_clients\": 1,\n",
    "    \"export_results_path\": \"results/\",\n",
    "    \"matrix_export\": True,\n",
    "    \"roc_export\": True,\n",
    "    \"min_fit_clients\": 1,\n",
    "    \"min_avail_clients\": 1,\n",
    "    \"min_eval_clients\": 1,\n",
    "    \"rounds\": 3,\n",
    "    \"frac_fit\": 1.0,\n",
    "    \"frac_eval\": 0.5,\n",
    "    \"lr\": 1e-3,\n",
    "    \"private_key_path\": \"private_key.pkl\",\n",
    "    \"public_key_path\": \"public_key.pkl\",\n",
    "    \"model_checkpoint_path\": \"model_checkpoint.pt\",\n",
    "    \"encrypted_model_checkpoint_path\": \"encrypted_model_checkpoint.pkl\",\n",
    "    \"layers_to_encrypt\": [\"classifier.2.weight\"],\n",
    "    \"n_qubits\": 4,\n",
    "    \"n_layers\": 6,\n",
    "}\n",
    "\n",
    "with open(\"settings.yaml\", \"w\") as file:\n",
    "    yaml.dump(settings, file, sort_keys=False)"
   ]
  },
  {
   "cell_type": "code",
   "execution_count": null,
   "id": "a3f4e11e",
   "metadata": {},
   "outputs": [],
   "source": [
    "os.environ[\"WANDB_MODE\"] = \"offline\"\n",
    "wandb.init(\"encrypted-qfl-demo\")"
   ]
  },
  {
   "cell_type": "code",
   "execution_count": null,
   "id": "45ed7ace",
   "metadata": {},
   "outputs": [],
   "source": [
    "result = subprocess.run(\n",
    "    [\"chmod\", \"+x\", \"./scripts/experiment.sh\"], stdout=subprocess.PIPE\n",
    ")\n",
    "print(result.stdout.decode())"
   ]
  },
  {
   "cell_type": "code",
   "execution_count": null,
   "id": "be70fe47",
   "metadata": {},
   "outputs": [],
   "source": [
    "result = subprocess.run(\n",
    "    [\"./scripts/experiment.sh\", \"cnn\", \"--he\"], stdout=subprocess.PIPE\n",
    ")\n",
    "print(result.stdout.decode())"
   ]
  }
 ],
 "metadata": {
  "kernelspec": {
   "display_name": "Python 3",
   "language": "python",
   "name": "python3"
  },
  "language_info": {
   "codemirror_mode": {
    "name": "ipython",
    "version": 3
   },
   "file_extension": ".py",
   "mimetype": "text/x-python",
   "name": "python",
   "nbconvert_exporter": "python",
   "pygments_lexer": "ipython3",
   "version": "3.13.8"
  }
 },
 "nbformat": 4,
 "nbformat_minor": 5
}
