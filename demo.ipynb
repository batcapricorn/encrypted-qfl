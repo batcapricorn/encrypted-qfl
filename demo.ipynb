{
 "cells": [
  {
   "cell_type": "markdown",
   "id": "15a87107",
   "metadata": {},
   "source": [
    "# Demo – Integrating FHE into QFL\n",
    "This notebook provides a glimpse into our project and demonstrates how to run QFL experiments that incorporate FHE using this repository.\n",
    "\n",
    "## Setup\n",
    "First, we import all necessary libraries and define the settings for our experiment run. All options are described in more detail in our [README](README.md). Please note that we set `\"layers_to_encrypt\": [\"classifier.0.weight\"]`, meaning we will only encrypt the layer `classifier.0.weight`. This is for demonstration purposes only, to reduce overhead since the notebook is intended to run locally. We will run a simple QML model using FHE. If you adapt the model type, you may need to adjust `layers_to_encrypt` accordingly.\n"
   ]
  },
  {
   "cell_type": "code",
   "execution_count": null,
   "id": "94500f4a",
   "metadata": {},
   "outputs": [],
   "source": [
    "import os\n",
    "import subprocess\n",
    "import yaml\n",
    "\n",
    "import wandb\n",
    "\n",
    "\n",
    "settings = {\n",
    "    \"wandb_project\": \"qfl-playground\",\n",
    "    \"data_path\": \"data-tiny/\",\n",
    "    \"dataset\": \"MRI\",\n",
    "    \"seed\": 0,\n",
    "    \"num_workers\": 0,\n",
    "    \"max_epochs\": 10,\n",
    "    \"batch_size\": 10,\n",
    "    \"splitter\": 10,\n",
    "    \"device\": \"cpu\",\n",
    "    \"number_clients\": 1,\n",
    "    \"export_results_path\": \"results/\",\n",
    "    \"matrix_export\": True,\n",
    "    \"roc_export\": True,\n",
    "    \"min_fit_clients\": 1,\n",
    "    \"min_avail_clients\": 1,\n",
    "    \"min_eval_clients\": 1,\n",
    "    \"rounds\": 3,\n",
    "    \"frac_fit\": 1.0,\n",
    "    \"frac_eval\": 0.5,\n",
    "    \"lr\": 1e-3,\n",
    "    \"private_key_path\": \"private_key.pkl\",\n",
    "    \"public_key_path\": \"public_key.pkl\",\n",
    "    \"model_checkpoint_path\": \"model_checkpoint.pt\",\n",
    "    \"encrypted_model_checkpoint_path\": \"encrypted_model_checkpoint.pkl\",\n",
    "    \"layers_to_encrypt\": [\"classifier.0.weight\"],\n",
    "    \"n_qubits\": 4,\n",
    "    \"n_layers\": 6,\n",
    "}\n",
    "\n",
    "with open(\"settings.yaml\", \"w\") as file:\n",
    "    yaml.dump(settings, file, sort_keys=False)"
   ]
  },
  {
   "cell_type": "markdown",
   "id": "ce652423",
   "metadata": {},
   "source": [
    "## Weights and Biases\n",
    "Metrics are pushed to [Weights & Biases](https://wandb.ai/). You may want to define your API key here to browse statistics using their dashboards. However, to showcase our project, we will simply switch to offline mode."
   ]
  },
  {
   "cell_type": "code",
   "execution_count": null,
   "id": "a3f4e11e",
   "metadata": {},
   "outputs": [],
   "source": [
    "os.environ[\"WANDB_MODE\"] = \"offline\"\n",
    "wandb.init(\"encrypted-qfl-demo\")"
   ]
  },
  {
   "cell_type": "markdown",
   "id": "715988cc",
   "metadata": {},
   "source": [
    "## Experiment\n",
    "It's time — we will make the bash script [experiment.sh](./scripts/experiment.sh) executable and run it using the parameters `cnn-qnn` and `--he`. This will train a QML model that leverages basic entangler layers and CKKS for parameter encryption."
   ]
  },
  {
   "cell_type": "code",
   "execution_count": null,
   "id": "45ed7ace",
   "metadata": {},
   "outputs": [],
   "source": [
    "result = subprocess.run(\n",
    "    [\"chmod\", \"+x\", \"./scripts/experiment.sh\"], stdout=subprocess.PIPE\n",
    ")\n",
    "print(result.stdout.decode())"
   ]
  },
  {
   "cell_type": "code",
   "execution_count": null,
   "id": "be70fe47",
   "metadata": {},
   "outputs": [],
   "source": [
    "result = subprocess.run(\n",
    "    [\"./scripts/experiment.sh\", \"cnn-qnn\", \"--he\"], stdout=subprocess.PIPE\n",
    ")\n",
    "print(result.stdout.decode())"
   ]
  }
 ],
 "metadata": {
  "kernelspec": {
   "display_name": "Python 3",
   "language": "python",
   "name": "python3"
  },
  "language_info": {
   "codemirror_mode": {
    "name": "ipython",
    "version": 3
   },
   "file_extension": ".py",
   "mimetype": "text/x-python",
   "name": "python",
   "nbconvert_exporter": "python",
   "pygments_lexer": "ipython3",
   "version": "3.13.8"
  }
 },
 "nbformat": 4,
 "nbformat_minor": 5
}
